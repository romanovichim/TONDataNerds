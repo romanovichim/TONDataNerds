{
  "cells": [
    {
      "cell_type": "markdown",
      "source": [
        "This file is an implementation of four filters for searching for NFT wash trading for a collection in the TON blockchain using the Telegram usernames as an example."
      ],
      "metadata": {
        "id": "_IFId2xZNVn3"
      }
    },
    {
      "cell_type": "markdown",
      "source": [
        "This code has a lot of room for improvement and is simple, not an efficient or 100% accurate implementation - improve as you see fit."
      ],
      "metadata": {
        "id": "qdhS17X1N8lt"
      }
    },
    {
      "cell_type": "markdown",
      "source": [
        "Since the collection of telegram usernames is large, I saved the main milestones for convenience at 24082023, however, you can upload the data as you like"
      ],
      "metadata": {
        "id": "jo4LPx-5OpA9"
      }
    },
    {
      "cell_type": "markdown",
      "source": [
        "TBD"
      ],
      "metadata": {
        "id": "yQ3JdiOuTG6u"
      }
    },
    {
      "cell_type": "markdown",
      "source": [],
      "metadata": {
        "id": "u6Tpnj99TG03"
      }
    },
    {
      "cell_type": "code",
      "execution_count": null,
      "metadata": {
        "id": "ORPq6U1swDZP"
      },
      "outputs": [],
      "source": [
        "#Install Dependecies\n",
        "import requests\n",
        "import string\n",
        "import pandas as pd\n",
        "import numpy as np\n",
        "\n",
        "from tqdm import tqdm"
      ]
    },
    {
      "cell_type": "code",
      "source": [],
      "metadata": {
        "id": "Ws6ZMgbLSxKS"
      },
      "execution_count": null,
      "outputs": []
    },
    {
      "cell_type": "markdown",
      "source": [
        "To obtain data, we will use an indexer. The amount of data that we will take in each request, I determined empirically - if you take more, then there will be an error"
      ],
      "metadata": {
        "id": "S-la7O_gQIiv"
      }
    },
    {
      "cell_type": "code",
      "source": [
        "endpoint = 'https://dton.io/graphql/'"
      ],
      "metadata": {
        "id": "X6ufgfBtqKLs"
      },
      "execution_count": null,
      "outputs": []
    },
    {
      "cell_type": "markdown",
      "source": [
        "*   The first thing we will do is get all transactions for the collection we have chosen.\n",
        "*   If you don't want to wait a few hours, there are pre-prepared data below TBD pre data"
      ],
      "metadata": {
        "id": "vV5s_v92QMBA"
      }
    },
    {
      "cell_type": "code",
      "execution_count": null,
      "metadata": {
        "id": "Wr4ew4hnwVU5"
      },
      "outputs": [],
      "source": [
        "#more than 4 hours\n",
        "\n",
        "res_arr=[]\n",
        "\n",
        "\n",
        "def get_txes(res_arr):\n",
        "  page = 0\n",
        "  maxPageSize = 150\n",
        "  blockLimit = 100\n",
        "\n",
        "  while(True):\n",
        "    # Collect query by hundreds\n",
        "    formatted_query =\"\"\n",
        "    for i in range(page,page+10):\n",
        "      #print(i)\n",
        "      template = string.Template(\"\"\"\n",
        "        q${page}: transactions(\n",
        "          parsed_seller_is_closed: 1\n",
        "          account_state_state_init_code_has_get_nft_data: 1\n",
        "          workchain: 0\n",
        "          page: ${page}\n",
        "          page_size: 10\n",
        "          parsed_nft_collection_address_address: \"80D78A35F955A14B679FAA887FF4CD5BFC0F43B4A4EEA2A7E6927F3701B273C2\"\n",
        "        ) {\n",
        "          prev_owner: parsed_seller_nft_prev_owner_address_address\n",
        "          new_owner: parsed_seller_nft_new_owner_address_address\n",
        "          nft_address: address\n",
        "          col_address: parsed_nft_collection_address_address\n",
        "          price: parsed_seller_nft_price\n",
        "        }\n",
        "        \"\"\")\n",
        "\n",
        "      formatted = template.substitute(page=i)\n",
        "      formatted = formatted +\"\\n\"\n",
        "      formatted_query += formatted\n",
        "\n",
        "    formatted_query = \"\"\"query {\"\"\"+formatted_query+\"\"\"}\"\"\"\n",
        "    #print(formatted_query)\n",
        "    while True:\n",
        "      try:\n",
        "        response = requests.post(endpoint, json={'query': formatted_query})\n",
        "        print(\"Status\",response.status_code)\n",
        "        # 40 seconds\n",
        "        print(page)\n",
        "        for k,v in response.json()['data'].items():\n",
        "            #if not v:\n",
        "            #  break\n",
        "          # print(type(v))\n",
        "          if not v:\n",
        "            print('Done')\n",
        "            return\n",
        "          for item in v:\n",
        "            res_arr.append(item)\n",
        "\n",
        "        break\n",
        "      except Exception:\n",
        "        continue\n",
        "\n",
        "\n",
        "    # Loop through if empty break\n",
        "\n",
        "\n",
        "\n",
        "    #if(page > 1200):\n",
        "      #break\n",
        "\n",
        "\n",
        "\n",
        "    page = page+10\n",
        "\n",
        "get_txes(res_arr)"
      ]
    },
    {
      "cell_type": "code",
      "execution_count": null,
      "metadata": {
        "id": "SA-ptpn3Fr4V"
      },
      "outputs": [],
      "source": [
        "'''\n",
        "#write your result to csv\n",
        "import csv\n",
        "\n",
        "keys = res_arr[0].keys()\n",
        "\n",
        "with open('24082023tgnames.csv', 'w', newline='') as output_file:\n",
        "    dict_writer = csv.DictWriter(output_file, keys)\n",
        "    dict_writer.writeheader()\n",
        "    dict_writer.writerows(res_arr)\n",
        "'''\n"
      ]
    },
    {
      "cell_type": "code",
      "source": [
        "import csv\n",
        "\n",
        "\n",
        "with open('/content/24082023tgnames.csv', \"r\") as f:\n",
        "    reader = csv.DictReader(f)\n",
        "    res_arr = list(reader)"
      ],
      "metadata": {
        "id": "h7iwTmcRiYsl"
      },
      "execution_count": null,
      "outputs": []
    },
    {
      "cell_type": "markdown",
      "source": [
        "Total Sales:"
      ],
      "metadata": {
        "id": "OxtTXfKAalmk"
      }
    },
    {
      "cell_type": "code",
      "source": [
        "# If you decide to use the data prepared by me, then there should be 109158 rows\n",
        "total_sales_count = len(res_arr)\n",
        "\n",
        "total_volume = 0\n",
        "for item in tqdm(res_arr):\n",
        "  total_volume = total_volume + int(item['price'])/1000000000\n",
        "\n",
        "total_volume = round(total_volume)\n",
        "\n",
        "print(\"\\nTotal Sales: \",total_sales_count)\n",
        "print(\"\\nTotal Volume: \",total_volume,\" TON\")"
      ],
      "metadata": {
        "colab": {
          "base_uri": "https://localhost:8080/"
        },
        "id": "V-uTsh_sjQE3",
        "outputId": "50dd0189-84b3-4fd2-9519-08a5e22e4146"
      },
      "execution_count": null,
      "outputs": [
        {
          "output_type": "stream",
          "name": "stderr",
          "text": [
            "100%|██████████| 109158/109158 [00:00<00:00, 2181643.26it/s]"
          ]
        },
        {
          "output_type": "stream",
          "name": "stdout",
          "text": [
            "\n",
            "Total Sales:  109158\n",
            "\n",
            "Total Volume:  57143316  TON\n"
          ]
        },
        {
          "output_type": "stream",
          "name": "stderr",
          "text": [
            "\n"
          ]
        }
      ]
    },
    {
      "cell_type": "markdown",
      "source": [],
      "metadata": {
        "id": "2JFQN5RtakDK"
      }
    },
    {
      "cell_type": "markdown",
      "source": [
        "1) Filter 1: Buyer = Seller"
      ],
      "metadata": {
        "id": "_0eG0tNolnPd"
      }
    },
    {
      "cell_type": "code",
      "source": [
        "counter=0\n",
        "same_arr=[]\n",
        "bs_volume = 0\n",
        "\n",
        "for pair in tqdm(res_arr):\n",
        "  if(pair['prev_owner'] == pair['new_owner'] and pair['prev_owner'] is not None and pair['new_owner'] is not None):\n",
        "    #print(pair['nft_address'],int(pair['price']))\n",
        "    counter = counter + 1\n",
        "    bs_volume = bs_volume + int(pair['price'])/1000000000\n",
        "    same_arr.append(pair)\n",
        "\n",
        "\n",
        "bs_volume = round(bs_volume)\n",
        "print(\"\\nBuyer = Seller Sales: \",counter)\n",
        "print(\"\\nPercentage from Total Sales: \",round((counter/total_sales_count)*100,2),\"%\")\n",
        "print(\"\\nBuyer = Seller Volume: \",bs_volume,\" TON\")\n",
        "print(\"\\nPercentage from Total Sales: \",round((bs_volume/total_volume)*100,2),\"%\")"
      ],
      "metadata": {
        "colab": {
          "base_uri": "https://localhost:8080/"
        },
        "id": "4ymUCxpmkiP5",
        "outputId": "053736f4-e8c3-40f3-d16a-9b837d8a5bb5"
      },
      "execution_count": null,
      "outputs": [
        {
          "output_type": "stream",
          "name": "stderr",
          "text": [
            "100%|██████████| 109158/109158 [00:00<00:00, 2891017.93it/s]"
          ]
        },
        {
          "output_type": "stream",
          "name": "stdout",
          "text": [
            "\n",
            "Buyer = Seller Sales:  1562\n",
            "\n",
            "Percentage from Total Sales:  1.43 %\n",
            "\n",
            "Buyer = Seller Volume:  333267  TON\n",
            "\n",
            "Percentage from Total Sales:  0.58 %\n"
          ]
        },
        {
          "output_type": "stream",
          "name": "stderr",
          "text": [
            "\n"
          ]
        }
      ]
    },
    {
      "cell_type": "markdown",
      "source": [
        "Example of such trades:\n",
        "\n",
        "*   https://tonscan.org/address/EQA6MQLzd6yo1eFbKDZqwNn9XfODn-c2Xv9CLtI93eeuP7_O\n",
        "*   or for simplicity https://getgems.io/nft/EQA6MQLzd6yo1eFbKDZqwNn9XfODn-c2Xv9CLtI93eeuP7_O\n",
        "\n"
      ],
      "metadata": {
        "id": "mFdIVrbyZdCM"
      }
    },
    {
      "cell_type": "markdown",
      "source": [
        "![tw.PNG](data:image/png;base64,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)"
      ],
      "metadata": {
        "id": "tXQunfkFaHvC"
      }
    },
    {
      "cell_type": "markdown",
      "source": [
        "or https://getgems.io/nft/EQCQLbJE0Qx1OBUBUSsokESFg5xrWfFvfEIZ6hQJUMuLQmQK"
      ],
      "metadata": {
        "id": "TJwUJioxql8q"
      }
    },
    {
      "cell_type": "markdown",
      "source": [
        "One of the most common wash trading strategies has been to trade the same NFT between two different wallets, sending it back and forth."
      ],
      "metadata": {
        "id": "5RqX3Jm3ds9l"
      }
    },
    {
      "cell_type": "markdown",
      "source": [
        "2) Back & Forth Trades"
      ],
      "metadata": {
        "id": "e500KRkWlsmQ"
      }
    },
    {
      "cell_type": "code",
      "source": [
        "bs_arr=[]\n",
        "bs_counter = 0\n",
        "\n",
        "for pair in tqdm(res_arr):\n",
        "  #pair[nft_address]\n",
        "  for reverse_pair in res_arr:\n",
        "    if(pair['prev_owner'] == reverse_pair['new_owner'] and pair['new_owner'] == reverse_pair['prev_owner'] and pair['prev_owner'] is not None and pair['new_owner'] is not None and pair['prev_owner'] != pair['new_owner'] and pair['nft_address'] == reverse_pair['nft_address']):\n",
        "      bs_arr.append(pair)\n",
        "      bs_counter = bs_counter + 1\n",
        "\n",
        "\n",
        "print(bs_counter)"
      ],
      "metadata": {
        "id": "jUp4nIdLoiWE"
      },
      "execution_count": null,
      "outputs": []
    },
    {
      "cell_type": "code",
      "source": [
        "bf_arr=[]\n",
        "\n",
        "with open('/content/24082023tgnamesMirrors.csv', \"r\") as f:\n",
        "    reader = csv.DictReader(f)\n",
        "    bf_arr = list(reader)"
      ],
      "metadata": {
        "id": "wZ4KkeFA40N2"
      },
      "execution_count": null,
      "outputs": []
    },
    {
      "cell_type": "markdown",
      "source": [],
      "metadata": {
        "id": "DiI4J1-lfgaI"
      }
    },
    {
      "cell_type": "code",
      "source": [
        "len(bf_arr)\n",
        "\n",
        "rev_bf_arr=[]\n",
        "\n",
        "for pair in tqdm(res_arr):\n",
        "  for rev_pair in bf_arr:\n",
        "    if(rev_pair['prev_owner'] == pair['new_owner'] and rev_pair['new_owner'] == pair['prev_owner'] and pair['prev_owner'] is not None and pair['new_owner'] is not None and pair['prev_owner'] != pair['new_owner'] and pair['nft_address'] == rev_pair['nft_address']):\n",
        "      rev_bf_arr.append(pair)"
      ],
      "metadata": {
        "colab": {
          "base_uri": "https://localhost:8080/"
        },
        "id": "VqtJtXplpqKS",
        "outputId": "3bb06dcb-01f4-4f3a-d699-322379bd7277"
      },
      "execution_count": null,
      "outputs": [
        {
          "output_type": "stream",
          "name": "stderr",
          "text": [
            "100%|██████████| 109158/109158 [00:01<00:00, 81557.29it/s]\n"
          ]
        }
      ]
    },
    {
      "cell_type": "code",
      "source": [
        "rev_bf_arr.extend(bf_arr)\n"
      ],
      "metadata": {
        "id": "aSRSRtesl6eu"
      },
      "execution_count": null,
      "outputs": []
    },
    {
      "cell_type": "code",
      "source": [
        "rev_bf_counter = len(rev_bf_arr)\n",
        "\n",
        "rev_bf_volume = 0\n",
        "\n",
        "for pair in tqdm(rev_bf_arr):\n",
        "  rev_bf_volume = rev_bf_volume + int(pair['price'])/1000000000\n",
        "\n",
        "\n",
        "\n",
        "rev_bf_volume = round(rev_bf_volume)\n",
        "print(\"\\nBack and Forth Sales: \",rev_bf_counter)\n",
        "print(\"\\nPercentage from Total Sales: \",round((rev_bf_counter/total_sales_count)*100,2),\"%\")\n",
        "print(\"\\nBack and Forth Volume: \",rev_bf_volume,\" TON\")\n",
        "print(\"\\nPercentage from Total Sales: \",round((rev_bf_volume/total_volume)*100,2),\"%\")"
      ],
      "metadata": {
        "colab": {
          "base_uri": "https://localhost:8080/"
        },
        "id": "DwkN43C9ma9-",
        "outputId": "e23c07be-6c3b-4261-ee8c-2238fe828065"
      },
      "execution_count": null,
      "outputs": [
        {
          "output_type": "stream",
          "name": "stderr",
          "text": [
            "100%|██████████| 366/366 [00:00<00:00, 818291.72it/s]"
          ]
        },
        {
          "output_type": "stream",
          "name": "stdout",
          "text": [
            "\n",
            "Back and Forth Sales:  366\n",
            "\n",
            "Percentage from Total Sales:  0.34 %\n",
            "\n",
            "Back and Forth Volume:  96275  TON\n",
            "\n",
            "Percentage from Total Sales:  0.17 %\n"
          ]
        },
        {
          "output_type": "stream",
          "name": "stderr",
          "text": [
            "\n"
          ]
        }
      ]
    },
    {
      "cell_type": "markdown",
      "source": [
        "Example of such trades:\n",
        "\n",
        "*   https://tonscan.org/address/EQBwqLB8jJSClGFLvi5SJGPpx-N7oFIO-RReOecdCRPM2AYu\n",
        "*   or for simplicity https://getgems.io/nft/EQBwqLB8jJSClGFLvi5SJGPpx-N7oFIO-RReOecdCRPM2AYu\n",
        "\n",
        "\n"
      ],
      "metadata": {
        "id": "4Gg7fC5asBZp"
      }
    },
    {
      "cell_type": "markdown",
      "source": [
        "![tw2.PNG](data:image/png;base64,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)"
      ],
      "metadata": {
        "id": "4RviAnKAsO2e"
      }
    },
    {
      "cell_type": "code",
      "source": [
        "'''\n",
        "keys = bs_arr[0].keys()\n",
        "\n",
        "with open('24082023tgnamesMirrors.csv', 'w', newline='') as output_file:\n",
        "    dict_writer = csv.DictWriter(output_file, keys)\n",
        "    dict_writer.writeheader()\n",
        "    dict_writer.writerows(bs_arr)\n",
        "'''"
      ],
      "metadata": {
        "id": "PzwjJ9RchyP2"
      },
      "execution_count": null,
      "outputs": []
    },
    {
      "cell_type": "markdown",
      "source": [
        "Filter 3: Bought NFTs 3x times"
      ],
      "metadata": {
        "id": "h34fibCFjV8J"
      }
    },
    {
      "cell_type": "code",
      "source": [
        "# remove all nft from the previous steps without reverse transactions so that they do not knock out too much"
      ],
      "metadata": {
        "id": "SLCY5JnzjVGm"
      },
      "execution_count": null,
      "outputs": []
    },
    {
      "cell_type": "code",
      "source": [
        "clean_arr=res_arr\n",
        "len(clean_arr)"
      ],
      "metadata": {
        "colab": {
          "base_uri": "https://localhost:8080/"
        },
        "id": "MOGzFDTzif5-",
        "outputId": "4805c410-dfb4-466e-9507-cce3a9bb829e"
      },
      "execution_count": null,
      "outputs": [
        {
          "output_type": "execute_result",
          "data": {
            "text/plain": [
              "109158"
            ]
          },
          "metadata": {},
          "execution_count": 39
        }
      ]
    },
    {
      "cell_type": "code",
      "source": [
        "same_arr_temp = same_arr\n",
        "print(len(same_arr_temp))\n",
        "same_arr_temp.extend(bf_arr)"
      ],
      "metadata": {
        "colab": {
          "base_uri": "https://localhost:8080/"
        },
        "id": "JAsODzeyFqy-",
        "outputId": "6bb5b44d-b6ab-4e25-d9b7-91578d1ea2da"
      },
      "execution_count": null,
      "outputs": [
        {
          "output_type": "stream",
          "name": "stdout",
          "text": [
            "1562\n"
          ]
        }
      ]
    },
    {
      "cell_type": "code",
      "source": [
        "len(same_arr_temp)"
      ],
      "metadata": {
        "colab": {
          "base_uri": "https://localhost:8080/"
        },
        "id": "iV0WiVIyGBYa",
        "outputId": "fb59c4be-8ca3-420d-ec65-50529a93f1df"
      },
      "execution_count": null,
      "outputs": [
        {
          "output_type": "execute_result",
          "data": {
            "text/plain": [
              "1726"
            ]
          },
          "metadata": {},
          "execution_count": 41
        }
      ]
    },
    {
      "cell_type": "code",
      "source": [
        "for item in tqdm(res_arr):\n",
        "  for cl in same_arr_temp:\n",
        "    if item == cl:\n",
        "        clean_arr.remove(item)\n",
        "        break"
      ],
      "metadata": {
        "colab": {
          "base_uri": "https://localhost:8080/"
        },
        "id": "IpAb07w6FLBp",
        "outputId": "874f316c-40e3-472b-a9fd-e4cf924efde4"
      },
      "execution_count": null,
      "outputs": [
        {
          "output_type": "stream",
          "name": "stderr",
          "text": [
            " 99%|█████████▊| 107625/109158 [00:30<00:00, 3578.55it/s]\n"
          ]
        }
      ]
    },
    {
      "cell_type": "code",
      "source": [
        "len(clean_arr)"
      ],
      "metadata": {
        "colab": {
          "base_uri": "https://localhost:8080/"
        },
        "id": "KfYxbTbmFHG2",
        "outputId": "73dfb807-9aef-426f-9e31-6459d1925685"
      },
      "execution_count": null,
      "outputs": [
        {
          "output_type": "execute_result",
          "data": {
            "text/plain": [
              "107625"
            ]
          },
          "metadata": {},
          "execution_count": 43
        }
      ]
    },
    {
      "cell_type": "code",
      "source": [
        "df_clean = pd.DataFrame.from_records(clean_arr)"
      ],
      "metadata": {
        "id": "3uyjcKdnFG-a"
      },
      "execution_count": null,
      "outputs": []
    },
    {
      "cell_type": "code",
      "source": [
        "df_clean.shape"
      ],
      "metadata": {
        "colab": {
          "base_uri": "https://localhost:8080/"
        },
        "id": "Nkz8h5W_O4Ps",
        "outputId": "63390b3f-f5e3-4211-e003-8e0fac32d4fd"
      },
      "execution_count": null,
      "outputs": [
        {
          "output_type": "execute_result",
          "data": {
            "text/plain": [
              "(107625, 5)"
            ]
          },
          "metadata": {},
          "execution_count": 45
        }
      ]
    },
    {
      "cell_type": "code",
      "source": [
        "df_counter = df_clean.groupby([\"prev_owner\", \"nft_address\"]).size().reset_index(name=\"Counter\").sort_values(by=['Counter'])"
      ],
      "metadata": {
        "id": "7KFXIGUWPDfM"
      },
      "execution_count": null,
      "outputs": []
    },
    {
      "cell_type": "code",
      "source": [
        "df_morethan = df_counter.loc[df_counter['Counter'] > 3]"
      ],
      "metadata": {
        "id": "6VoECqEIhiLc"
      },
      "execution_count": null,
      "outputs": []
    },
    {
      "cell_type": "code",
      "source": [
        "df_morethan.shape"
      ],
      "metadata": {
        "colab": {
          "base_uri": "https://localhost:8080/"
        },
        "id": "gfyqMVRiiOxQ",
        "outputId": "772535ca-b1ab-434c-aeec-40922f66a337"
      },
      "execution_count": null,
      "outputs": [
        {
          "output_type": "execute_result",
          "data": {
            "text/plain": [
              "(69, 3)"
            ]
          },
          "metadata": {},
          "execution_count": 48
        }
      ]
    },
    {
      "cell_type": "code",
      "source": [
        "threetime_arr=df_morethan.to_dict('records')"
      ],
      "metadata": {
        "id": "fb9VU2ztkZ4z"
      },
      "execution_count": null,
      "outputs": []
    },
    {
      "cell_type": "markdown",
      "source": [
        "Let's count the number of such transactions in a cycle and collect the necessary information"
      ],
      "metadata": {
        "id": "km3vxbp9oX1i"
      }
    },
    {
      "cell_type": "code",
      "source": [
        "three_counter = 0\n",
        "three_volume = 0\n",
        "\n",
        "for item in tqdm(clean_arr):\n",
        "  for cl in threetime_arr:\n",
        "    if(item[\"prev_owner\"] == cl[\"prev_owner\"] and item[\"nft_address\"] == cl[\"nft_address\"]):\n",
        "      three_volume = three_volume + int(pair['price'])/1000000000\n",
        "      three_counter = three_counter + 1\n",
        "\n",
        "\n",
        "three_volume = round(three_volume)\n",
        "print(\"\\nThree times owned Sales: \",three_counter)\n",
        "print(\"\\nPercentage from Total Sales: \",round((three_counter/total_sales_count)*100,2),\"%\")\n",
        "print(\"\\nThree times owned Volume: \",three_volume,\" TON\")\n",
        "print(\"\\nPercentage from Total Sales: \",round((three_volume/total_volume)*100,2),\"%\")"
      ],
      "metadata": {
        "colab": {
          "base_uri": "https://localhost:8080/"
        },
        "id": "2cugHGCQpGcX",
        "outputId": "1849ba4a-181a-4ab4-df7c-74d40ea965c6"
      },
      "execution_count": null,
      "outputs": [
        {
          "output_type": "stream",
          "name": "stderr",
          "text": [
            "100%|██████████| 107625/107625 [00:00<00:00, 156612.31it/s]"
          ]
        },
        {
          "output_type": "stream",
          "name": "stdout",
          "text": [
            "\n",
            "Three times owned Sales:  307\n",
            "\n",
            "Percentage from Total Sales:  0.28 %\n",
            "\n",
            "Three times owned Volume:  3676  TON\n",
            "\n",
            "Percentage from Total Sales:  0.01 %\n"
          ]
        },
        {
          "output_type": "stream",
          "name": "stderr",
          "text": [
            "\n"
          ]
        }
      ]
    },
    {
      "cell_type": "markdown",
      "source": [
        "Example of such trades:\n",
        "\n",
        "*   https://tonscan.org/address/EQBojNunoLV_6V6R8tCddgo9I-g0h4TerAUcZpSf1tin9xC6\n",
        "*   or for simplicity https://getgems.io/nft/EQBojNunoLV_6V6R8tCddgo9I-g0h4TerAUcZpSf1tin9xC6"
      ],
      "metadata": {
        "id": "-ikYTfyStl_Z"
      }
    },
    {
      "cell_type": "markdown",
      "source": [
        "![tw3.PNG](data:image/png;base64,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)"
      ],
      "metadata": {
        "id": "tP3LDtwvtpiG"
      }
    },
    {
      "cell_type": "code",
      "source": [
        "clean3_arr=clean_arr.copy()"
      ],
      "metadata": {
        "id": "nARLPnWvlQQD"
      },
      "execution_count": null,
      "outputs": []
    },
    {
      "cell_type": "code",
      "source": [
        "for item in tqdm(clean_arr):\n",
        "  for cl in threetime_arr:\n",
        "    if(item[\"prev_owner\"] == cl[\"prev_owner\"] and item[\"nft_address\"] == cl[\"nft_address\"]):\n",
        "        clean3_arr.remove(item)"
      ],
      "metadata": {
        "colab": {
          "base_uri": "https://localhost:8080/"
        },
        "id": "gAUrve_4lBsj",
        "outputId": "43b2874c-2453-414c-8184-f5d43f4d6603"
      },
      "execution_count": null,
      "outputs": [
        {
          "output_type": "stream",
          "name": "stderr",
          "text": [
            "100%|██████████| 107625/107625 [00:01<00:00, 95560.28it/s] \n"
          ]
        }
      ]
    },
    {
      "cell_type": "code",
      "source": [
        "len(clean3_arr)"
      ],
      "metadata": {
        "colab": {
          "base_uri": "https://localhost:8080/"
        },
        "id": "7SOqA6TKl1oY",
        "outputId": "79af50a7-591f-428e-8805-46071b60229d"
      },
      "execution_count": null,
      "outputs": [
        {
          "output_type": "execute_result",
          "data": {
            "text/plain": [
              "107318"
            ]
          },
          "metadata": {},
          "execution_count": 54
        }
      ]
    },
    {
      "cell_type": "markdown",
      "source": [
        "Filter 4. Buyer & Seller First Funded by Same Wallet"
      ],
      "metadata": {
        "id": "1IMwNNfMjfG2"
      }
    },
    {
      "cell_type": "code",
      "source": [
        "# уникальные адреса\n",
        "# собираем кол-во транзакции\n",
        "# достаем первые траназакции IN\n"
      ],
      "metadata": {
        "id": "nx3FGoePjer9"
      },
      "execution_count": null,
      "outputs": []
    },
    {
      "cell_type": "markdown",
      "source": [
        "Take all unique from columns prev and new owner to make dictionary of\n"
      ],
      "metadata": {
        "id": "dgQNCeNbmnPm"
      }
    },
    {
      "cell_type": "code",
      "source": [
        "new_owner_unique = set(d['new_owner'] for d in clean3_arr)\n",
        "prev_owner_unique = set(d['prev_owner'] for d in clean3_arr)"
      ],
      "metadata": {
        "id": "YkZKqRXnmm_y"
      },
      "execution_count": null,
      "outputs": []
    },
    {
      "cell_type": "code",
      "source": [
        "unique_address = new_owner_unique  | prev_owner_unique"
      ],
      "metadata": {
        "id": "B8xQg2nHoZI6"
      },
      "execution_count": null,
      "outputs": []
    },
    {
      "cell_type": "code",
      "source": [
        "len(unique_address)"
      ],
      "metadata": {
        "colab": {
          "base_uri": "https://localhost:8080/"
        },
        "id": "oF0ZCjARoegv",
        "outputId": "c191eff1-d99e-44ef-c682-78eb414639ce"
      },
      "execution_count": null,
      "outputs": [
        {
          "output_type": "execute_result",
          "data": {
            "text/plain": [
              "81666"
            ]
          },
          "metadata": {},
          "execution_count": 25
        }
      ]
    },
    {
      "cell_type": "code",
      "source": [
        "unique_address=list(unique_address)"
      ],
      "metadata": {
        "id": "ISBdx0u1sinK"
      },
      "execution_count": null,
      "outputs": []
    },
    {
      "cell_type": "code",
      "source": [
        "n = 150\n",
        "\n",
        "# Generator comprehension\n",
        "chunks = list(unique_address[i:i + n] for i in range(0, len(unique_address), n))"
      ],
      "metadata": {
        "id": "Crg1KJEfsdjD"
      },
      "execution_count": null,
      "outputs": []
    },
    {
      "cell_type": "code",
      "source": [
        "temp_catalog=[]\n",
        "\n",
        "for chunk in tqdm(chunks):\n",
        "  formatted_query =\"\"\n",
        "  for count, value in enumerate(chunk):\n",
        "        template = string.Template(\"\"\"\n",
        "          q${value}: accountTransactionCount(address: \"${value}\", workchain: 0)\n",
        "        \"\"\")\n",
        "\n",
        "        formatted = template.substitute(count=count,value=value)\n",
        "        formatted = formatted +\"\\n\"\n",
        "        formatted_query += formatted\n",
        "\n",
        "  formatted_query = \"\"\"query {\"\"\"+formatted_query+\"\"\"}\"\"\"\n",
        "  #print(formatted_query)\n",
        "  response = requests.post(endpoint, json={'query': formatted_query})\n",
        "  if response.status_code == 200:\n",
        "    #print(response.status_code)\n",
        "    for k,v in response.json()['data'].items():\n",
        "      temp = {'addr': k[1:], 'txescount': v}\n",
        "      temp_catalog.append(temp)\n",
        "      #print(k[1:],v)\n",
        "  else:\n",
        "    print(response.status_code)"
      ],
      "metadata": {
        "colab": {
          "base_uri": "https://localhost:8080/"
        },
        "id": "u1SbvAlzonJ5",
        "outputId": "edf9a131-93cd-4d71-e8bf-7713666597e7"
      },
      "execution_count": null,
      "outputs": [
        {
          "output_type": "stream",
          "name": "stderr",
          "text": [
            "100%|██████████| 545/545 [1:03:44<00:00,  7.02s/it]\n"
          ]
        }
      ]
    },
    {
      "cell_type": "code",
      "source": [
        "len(temp_catalog)"
      ],
      "metadata": {
        "colab": {
          "base_uri": "https://localhost:8080/",
          "height": 175
        },
        "id": "NE6KtdISFRza",
        "outputId": "20025f6a-d372-4dc3-da79-3fbbc376401d"
      },
      "execution_count": null,
      "outputs": [
        {
          "output_type": "error",
          "ename": "NameError",
          "evalue": "ignored",
          "traceback": [
            "\u001b[0;31m---------------------------------------------------------------------------\u001b[0m",
            "\u001b[0;31mNameError\u001b[0m                                 Traceback (most recent call last)",
            "\u001b[0;32m<ipython-input-27-aa45b8391508>\u001b[0m in \u001b[0;36m<cell line: 1>\u001b[0;34m()\u001b[0m\n\u001b[0;32m----> 1\u001b[0;31m \u001b[0mlen\u001b[0m\u001b[0;34m(\u001b[0m\u001b[0mtemp_catalog\u001b[0m\u001b[0;34m)\u001b[0m\u001b[0;34m\u001b[0m\u001b[0;34m\u001b[0m\u001b[0m\n\u001b[0m",
            "\u001b[0;31mNameError\u001b[0m: name 'temp_catalog' is not defined"
          ]
        }
      ]
    },
    {
      "cell_type": "code",
      "source": [
        "'''\n",
        "import csv\n",
        "\n",
        "keys = temp_catalog[0].keys()\n",
        "\n",
        "with open('24082023txestemp.csv', 'w', newline='') as output_file:\n",
        "    dict_writer = csv.DictWriter(output_file, keys)\n",
        "    dict_writer.writeheader()\n",
        "    dict_writer.writerows(temp_catalog)\n",
        "\n",
        "'''"
      ],
      "metadata": {
        "id": "s8iV9sCcFfjD"
      },
      "execution_count": null,
      "outputs": []
    },
    {
      "cell_type": "code",
      "source": [
        "temp_catalog=[]\n",
        "\n",
        "with open('/content/24082023txestemp.csv', \"r\") as f:\n",
        "    reader = csv.DictReader(f)\n",
        "    temp_catalog = list(reader)"
      ],
      "metadata": {
        "id": "PlvBs6FgjtWL"
      },
      "execution_count": null,
      "outputs": []
    },
    {
      "cell_type": "code",
      "source": [
        "temp_catalog[0]['txescount']"
      ],
      "metadata": {
        "id": "OE_yXXIjH62R"
      },
      "execution_count": null,
      "outputs": []
    },
    {
      "cell_type": "code",
      "source": [
        "temp_catalog[10]"
      ],
      "metadata": {
        "id": "53hoapVClwBP"
      },
      "execution_count": null,
      "outputs": []
    },
    {
      "cell_type": "code",
      "source": [
        "df_check = pd.DataFrame.from_records(temp_catalog)"
      ],
      "metadata": {
        "id": "B0GwXfpVlTuB"
      },
      "execution_count": null,
      "outputs": []
    },
    {
      "cell_type": "code",
      "source": [
        "df_check['txescount'].value_counts().sort_values()"
      ],
      "metadata": {
        "id": "2UjBStnwljtT"
      },
      "execution_count": null,
      "outputs": []
    },
    {
      "cell_type": "code",
      "source": [
        "y = 100\n",
        "\n",
        "# Generator comprehension\n",
        "chunks_temp = list(temp_catalog[i:i + y] for i in range(0, len(temp_catalog), y))"
      ],
      "metadata": {
        "id": "zQ_ntwBaJbkd"
      },
      "execution_count": null,
      "outputs": []
    },
    {
      "cell_type": "code",
      "source": [
        "catalog=[]\n",
        "\n",
        "for chunk in tqdm(chunks_temp):\n",
        "  formatted_query =\"\"\n",
        "  for count, value in enumerate(chunk):\n",
        "        template = string.Template(\"\"\"\n",
        "          q${value}: transactions(\n",
        "            address: \"${value}\"\n",
        "            page: 0\n",
        "            page_size: 1\n",
        "            workchain: 0\n",
        "            order_by: \"gen_utime\"\n",
        "            order_desc: false\n",
        "          ) {\n",
        "            in_msg_src_addr_address_hex\n",
        "          }\n",
        "        \"\"\")\n",
        "\n",
        "        formatted = template.substitute(value=value['addr'],pg=int(value['txescount'])-1)\n",
        "        #print(formatted)\n",
        "        formatted = formatted +\"\\n\"\n",
        "        formatted_query += formatted\n",
        "\n",
        "  formatted_query = \"\"\"query {\"\"\"+formatted_query+\"\"\"}\"\"\"\n",
        "  #print(formatted_query)\n",
        "  response = requests.post(endpoint, json={'query': formatted_query})\n",
        "  if response.status_code == 200:\n",
        "    #print(response.status_code)\n",
        "    #print(response.json()['data'])\n",
        "    for k,v in response.json()['data'].items():\n",
        "      #temp = {'addr': k[1:], 'first_inaddr': v[0]['in_msg_src_addr_address_hex']}\n",
        "      #catalog.append(temp)\n",
        "      #print(k,v)\n",
        "      try:\n",
        "        temp = {'addr': k[1:], 'first_inaddr': v[0]['in_msg_src_addr_address_hex']}\n",
        "        catalog.append(temp)\n",
        "      except Exception:\n",
        "        pass\n",
        "  else:\n",
        "    print(response.status_code)\n",
        "    print(chunk)\n"
      ],
      "metadata": {
        "colab": {
          "base_uri": "https://localhost:8080/"
        },
        "id": "gsHh709JJQgN",
        "outputId": "dc361392-fe13-46cb-b486-40753a1dc405"
      },
      "execution_count": null,
      "outputs": [
        {
          "output_type": "stream",
          "name": "stderr",
          "text": [
            "100%|██████████| 817/817 [1:51:56<00:00,  8.22s/it]\n"
          ]
        }
      ]
    },
    {
      "cell_type": "code",
      "source": [],
      "metadata": {
        "colab": {
          "base_uri": "https://localhost:8080/"
        },
        "id": "ufq-KpB2DtIU",
        "outputId": "5ec7abb1-c14c-49b8-e0e5-5a9b2cc04cef"
      },
      "execution_count": null,
      "outputs": [
        {
          "output_type": "execute_result",
          "data": {
            "text/plain": [
              "81652"
            ]
          },
          "metadata": {},
          "execution_count": 38
        }
      ]
    },
    {
      "cell_type": "code",
      "source": [
        "keys = catalog[0].keys()\n",
        "\n",
        "with open('24082023catalog.csv', 'w', newline='') as output_file:\n",
        "    dict_writer = csv.DictWriter(output_file, keys)\n",
        "    dict_writer.writeheader()\n",
        "    dict_writer.writerows(catalog)"
      ],
      "metadata": {
        "id": "mRbd6nMNBkF-"
      },
      "execution_count": null,
      "outputs": []
    },
    {
      "cell_type": "code",
      "source": [
        "\n",
        "catalog=[]\n",
        "\n",
        "with open('/content/24082023catalog.csv', \"r\") as f:\n",
        "    reader = csv.DictReader(f)\n",
        "    catalog = list(reader)"
      ],
      "metadata": {
        "id": "5KonYJrbNEld"
      },
      "execution_count": null,
      "outputs": []
    },
    {
      "cell_type": "code",
      "source": [
        "len(catalog)"
      ],
      "metadata": {
        "colab": {
          "base_uri": "https://localhost:8080/"
        },
        "id": "1zo59Pl6NVrk",
        "outputId": "feeaeec6-8e52-4314-fd66-2f2b48988819"
      },
      "execution_count": null,
      "outputs": [
        {
          "output_type": "execute_result",
          "data": {
            "text/plain": [
              "81652"
            ]
          },
          "metadata": {},
          "execution_count": 31
        }
      ]
    },
    {
      "cell_type": "code",
      "source": [
        "catalog[0]"
      ],
      "metadata": {
        "colab": {
          "base_uri": "https://localhost:8080/"
        },
        "id": "DV7uzoUKNord",
        "outputId": "b54364de-3a24-4bb3-d077-5e711b4fbf1a"
      },
      "execution_count": null,
      "outputs": [
        {
          "output_type": "execute_result",
          "data": {
            "text/plain": [
              "{'addr': '1AC1DD6633EA9512DDC1131E0192A772D0BC9DA3B8DDB0D70BD202615A70F72F',\n",
              " 'first_inaddr': '7DA5E125A2B97E291245494F2DF705F089F6597FC367F94604310793471BE846'}"
            ]
          },
          "metadata": {},
          "execution_count": 32
        }
      ]
    },
    {
      "cell_type": "code",
      "source": [
        "# d['mynewkey'] = 'mynewvalue' Добавляем две колонки\n",
        "\n",
        "for row in tqdm(clean3_arr):\n",
        "  for item in catalog:\n",
        "    if(item['addr'] == row['prev_owner']):\n",
        "      row['prev_owner_first_funded'] = item['first_inaddr']\n",
        "    #else:\n",
        "    #  row['prev_owner_first_funded'] = None\n",
        "    if(item['addr'] == row['new_owner']):\n",
        "      row['new_owner_first_funded'] = item['first_inaddr']\n",
        "    #else:\n",
        "    #  row['new_owner_first_funded'] = None"
      ],
      "metadata": {
        "colab": {
          "base_uri": "https://localhost:8080/"
        },
        "id": "NusBJjF7NXMd",
        "outputId": "5a0e9104-72a1-40db-d3f1-66891d9edbfe"
      },
      "execution_count": null,
      "outputs": [
        {
          "output_type": "stream",
          "name": "stderr",
          "text": [
            "100%|██████████| 107318/107318 [56:05<00:00, 31.89it/s]\n"
          ]
        }
      ]
    },
    {
      "cell_type": "code",
      "source": [
        "keys = clean3_arr[0].keys()\n",
        "\n",
        "with open('24082023firstfunded.csv', 'w', newline='') as output_file:\n",
        "    dict_writer = csv.DictWriter(output_file, keys)\n",
        "    dict_writer.writeheader()\n",
        "    dict_writer.writerows(clean3_arr)"
      ],
      "metadata": {
        "id": "9B1WOJilp6-B"
      },
      "execution_count": null,
      "outputs": []
    },
    {
      "cell_type": "code",
      "source": [
        "enriched=[]\n",
        "\n",
        "import csv\n",
        "\n",
        "with open('/content/24082023firstfunded.csv', \"r\") as f:\n",
        "    reader = csv.DictReader(f)\n",
        "    enriched = list(reader)"
      ],
      "metadata": {
        "id": "Cj-GvtzBiPVF"
      },
      "execution_count": null,
      "outputs": []
    },
    {
      "cell_type": "code",
      "source": [
        "enriched[0]"
      ],
      "metadata": {
        "colab": {
          "base_uri": "https://localhost:8080/"
        },
        "id": "8b0-rVY-XFiC",
        "outputId": "b2bfc746-2a42-4d9a-d2c5-0dade218c6d7"
      },
      "execution_count": null,
      "outputs": [
        {
          "output_type": "execute_result",
          "data": {
            "text/plain": [
              "{'prev_owner': '6F9BA4A066759157F194EB2F937F8F40910BEA3CA6555CB22FC25C7A45D28F57',\n",
              " 'new_owner': '1F5F46F22FB69CCEA9C3ACF73BDB9CCE89014A988732A653FE2A465FFA23394F',\n",
              " 'nft_address': '7E4900D85A3AEE987D9E2DE004073AD74933FADCDE2C0706A061871E4A81FD7D',\n",
              " 'col_address': '80D78A35F955A14B679FAA887FF4CD5BFC0F43B4A4EEA2A7E6927F3701B273C2',\n",
              " 'price': '8947471818',\n",
              " 'prev_owner_first_funded': '7E4900D85A3AEE987D9E2DE004073AD74933FADCDE2C0706A061871E4A81FD7D',\n",
              " 'new_owner_first_funded': 'FF915CE6C7A43D553D949B11572E9FE07ACCAC5B5B9FDED37F86A233C2EF21B9'}"
            ]
          },
          "metadata": {},
          "execution_count": 62
        }
      ]
    },
    {
      "cell_type": "code",
      "source": [
        "f_counter = 0\n",
        "f_volume = 0\n",
        "funded_arr=[]\n",
        "\n",
        "for pair in tqdm(enriched):\n",
        "  if(pair['prev_owner_first_funded'] == pair['new_owner_first_funded'] and pair['prev_owner_first_funded'] is not None and pair['new_owner_first_funded'] is not None):\n",
        "    f_counter = f_counter + 1\n",
        "    f_volume = f_volume + int(pair['price'])/1000000000\n",
        "    funded_arr.append(pair)\n",
        "\n",
        "\n",
        "\n",
        "f_volume = round(f_volume)\n",
        "print(\"\\nFounded Sales: \",f_counter  )\n",
        "print(\"\\nPercentage from Total Sales: \",round((f_counter/total_sales_count)*100,2),\"%\")\n",
        "print(\"\\nFounded Volume: \",f_volume,\" TON\")\n",
        "print(\"\\nPercentage from Total Sales: \",round((f_volume/total_volume)*100,2),\"%\")\n"
      ],
      "metadata": {
        "id": "Y5SmI9TkiPSF",
        "colab": {
          "base_uri": "https://localhost:8080/"
        },
        "outputId": "c2dcb631-5ddd-400d-cbcc-3a149150ab1b"
      },
      "execution_count": null,
      "outputs": [
        {
          "output_type": "stream",
          "name": "stderr",
          "text": [
            "100%|██████████| 107318/107318 [00:00<00:00, 2423776.15it/s]"
          ]
        },
        {
          "output_type": "stream",
          "name": "stdout",
          "text": [
            "\n",
            "Three times owned Sales:  1722\n",
            "\n",
            "Percentage from Total Sales:  1.58 %\n",
            "\n",
            "Three times owned Volume:  159462  TON\n",
            "\n",
            "Percentage from Total Sales:  0.28 %\n"
          ]
        },
        {
          "output_type": "stream",
          "name": "stderr",
          "text": [
            "\n"
          ]
        }
      ]
    },
    {
      "cell_type": "code",
      "source": [
        "'prev_owner': '21521F7BFDD869587D742316E06BD9AB8FDDFE73C198971CA3FAE216B5E9AC1D', https://tonscan.org/address/EQAhUh97_dhpWH10Ixbga9mrj93-c8GYlxyj-uIWtemsHUH_\n",
        "'new_owner': '4391DCE8865CD261F64FFEC56BEFC9C6A68FE11210CBAA05D9C05AEFE0D03188', https://tonscan.org/address/EQBDkdzohlzSYfZP_sVr78nGpo_hEhDLqgXZwFrv4NAxiNUo\n",
        "'nft_address': 'D661DDF48742A2EA67945ACD9DCF8BBA7636B280651A0024BBDEF6A9CEBE1039', https://tonscan.org/address/EQDWYd30h0Ki6meUWs2dz4u6djaygGUaACS73vapzr4QOYPU\n",
        "'col_address': '80D78A35F955A14B679FAA887FF4CD5BFC0F43B4A4EEA2A7E6927F3701B273C2',\n",
        "  'price': '9980366888',\n",
        "'prev_owner_first_funded': 'AD8AFECFACC248996885D8BE6824280F9F3A7E54C2F6080B7971B9F556C280C4 https://tonscan.org/address/EQCtiv7PrMJImWiF2L5oJCgPnzp-VML2CAt5cbn1VsKAxLiE\n",
        "'new_owner_first_funded': 'AD8AFECFACC248996885D8BE6824280F9F3A7E54C2F6080B7971B9F556C280C4' https://tonscan.org/address/EQCtiv7PrMJImWiF2L5oJCgPnzp-VML2CAt5cbn1VsKAxLiE"
      ],
      "metadata": {
        "id": "KFuDKopa0rv9"
      },
      "execution_count": null,
      "outputs": []
    },
    {
      "cell_type": "markdown",
      "source": [
        "![tw4.PNG](data:image/png;base64,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)"
      ],
      "metadata": {
        "id": "rqsE4flH1wwl"
      }
    },
    {
      "cell_type": "code",
      "source": [
        "print(\"\\nBuyer = Seller Sales: \",counter)\n",
        "print(\"\\nPercentage from Total Sales: \",round((counter/total_sales_count)*100,2),\"%\")\n",
        "print(\"\\nBuyer = Seller Volume: \",bs_volume,\" TON\")\n",
        "print(\"\\nPercentage from Total Sales: \",round((bs_volume/total_volume)*100,2),\"%\")"
      ],
      "metadata": {
        "id": "a6NRpahBiPMl",
        "colab": {
          "base_uri": "https://localhost:8080/"
        },
        "outputId": "21777d52-e8ea-43e2-a2ca-78c546aff404"
      },
      "execution_count": null,
      "outputs": [
        {
          "output_type": "stream",
          "name": "stdout",
          "text": [
            "\n",
            "Buyer = Seller Sales:  1562\n",
            "\n",
            "Percentage from Total Sales:  1.43 %\n",
            "\n",
            "Buyer = Seller Volume:  333267  TON\n",
            "\n",
            "Percentage from Total Sales:  0.58 %\n"
          ]
        }
      ]
    },
    {
      "cell_type": "code",
      "source": [
        "print(\"\\nBack and Forth Sales: \",rev_bf_counter)\n",
        "print(\"\\nPercentage from Total Sales: \",round((rev_bf_counter/total_sales_count)*100,2),\"%\")\n",
        "print(\"\\nBack and Forth Volume: \",rev_bf_volume,\" TON\")\n",
        "print(\"\\nPercentage from Total Sales: \",round((rev_bf_volume/total_volume)*100,2),\"%\")"
      ],
      "metadata": {
        "id": "UCNrzz_miPJ9"
      },
      "execution_count": null,
      "outputs": []
    },
    {
      "cell_type": "code",
      "source": [
        "print(\"\\nThree times owned Sales: \",three_counter)\n",
        "print(\"\\nPercentage from Total Sales: \",round((three_counter/total_sales_count)*100,2),\"%\")\n",
        "print(\"\\nThree times owned Volume: \",three_volume,\" TON\")\n",
        "print(\"\\nPercentage from Total Sales: \",round((three_volume/total_volume)*100,2),\"%\")"
      ],
      "metadata": {
        "id": "hAdVWk6BiPHC"
      },
      "execution_count": null,
      "outputs": []
    },
    {
      "cell_type": "code",
      "source": [
        "print(\"\\nThree times owned Sales: \",f_counter  )\n",
        "print(\"\\nPercentage from Total Sales: \",round((f_counter/total_sales_count)*100,2),\"%\")\n",
        "print(\"\\nThree times owned Volume: \",f_volume,\" TON\")\n",
        "print(\"\\nPercentage from Total Sales: \",round((f_volume/total_volume)*100,2),\"%\")"
      ],
      "metadata": {
        "id": "AzU0Jy4siPEc"
      },
      "execution_count": null,
      "outputs": []
    },
    {
      "cell_type": "code",
      "source": [
        "wash_counter = counter+rev_bf_counter+three_counter+f_counter\n",
        "print(\"\\nWash Sales: \",wash_counter)\n",
        "print(\"\\nPercentage from Total Sales: \",round((wash_counter/total_sales_count)*100,2),\"%\")\n",
        "wash_volume = bs_volume + rev_bf_volume + three_volume + f_volume\n",
        "print(\"\\nWash Volume: \",wash_volume,\" TON\")\n",
        "print(\"\\nPercentage from Total Sales: \",round((wash_volume/total_volume)*100,2),\"%\")"
      ],
      "metadata": {
        "id": "1Je0QzXsiPB2",
        "colab": {
          "base_uri": "https://localhost:8080/"
        },
        "outputId": "1b60d6ee-8568-407b-b41f-dcde70ae00e7"
      },
      "execution_count": null,
      "outputs": [
        {
          "output_type": "stream",
          "name": "stdout",
          "text": [
            "\n",
            "Wash Sales:  3957\n",
            "\n",
            "Percentage from Total Sales:  3.63 %\n",
            "\n",
            "Wash Volume:  592680  TON\n",
            "\n",
            "Percentage from Total Sales:  1.04 %\n"
          ]
        }
      ]
    },
    {
      "cell_type": "code",
      "source": [],
      "metadata": {
        "id": "_ObixSyEiO_t"
      },
      "execution_count": null,
      "outputs": []
    },
    {
      "cell_type": "code",
      "source": [],
      "metadata": {
        "id": "qjXVsjzeiO2t"
      },
      "execution_count": null,
      "outputs": []
    },
    {
      "cell_type": "code",
      "source": [],
      "metadata": {
        "id": "6yojTv5f_d4Q"
      },
      "execution_count": null,
      "outputs": []
    }
  ],
  "metadata": {
    "colab": {
      "provenance": []
    },
    "kernelspec": {
      "display_name": "Python 3",
      "name": "python3"
    },
    "language_info": {
      "name": "python"
    }
  },
  "nbformat": 4,
  "nbformat_minor": 0
}